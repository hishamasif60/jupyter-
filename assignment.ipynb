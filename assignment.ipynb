{
 "cells": [
  {
   "cell_type": "markdown",
   "id": "3ae9d11b",
   "metadata": {},
   "source": [
    "# Jupyter notebook project"
   ]
  },
  {
   "cell_type": "markdown",
   "id": "9ea7f325",
   "metadata": {},
   "source": [
    "## Introduction \n",
    "My name is Hisham Bin Asif and this is my Jupyter Notebook Project"
   ]
  },
  {
   "cell_type": "markdown",
   "id": "379661e9",
   "metadata": {},
   "source": [
    "# Data Science Languages\n",
    "\n",
    "Data science involves working with large and complex datasets, and there are several programming languages that are commonly used in this field. Here are some of the most popular data science languages:\n",
    "\n",
    "- Python: Python is a high-level programming language that is widely used in data science. It has a large number of libraries and frameworks that make it easy to work with data, including NumPy, Pandas, and Scikit-Learn.\n",
    "\n",
    "- R: R is another popular programming language that is widely used in data science. It has a large number of libraries and packages that make it easy to work with data, including dplyr, ggplot2, and caret.\n",
    "\n",
    "- SQL: SQL is a database programming language that is used to manage and manipulate large datasets. It's essential for working with relational databases, and it's also used for data analysis and data mining.\n",
    "\n",
    "- MATLAB: MATLAB is a high-level programming language that is commonly used in scientific computing and data analysis. It has a large number of toolboxes that make it easy to work with data, including statistics, signal processing, and optimization.\n",
    "\n",
    "These are just a few of the many programming languages that are used in data science. Each language has its strengths and weaknesses, and the choice of language often depends on the specific task at hand."
   ]
  },
  {
   "cell_type": "markdown",
   "id": "6b0012a0",
   "metadata": {},
   "source": [
    "# Data Science Languages\n",
    "Data science involves working with large and complex datasets, and there are several programming languages that are commonly used in this field. Here are some of the most popular data science languages:\n",
    "\n",
    "- Python: Python is a high-level programming language that is widely used in data science. It has a large number of libraries and frameworks that make it easy to work with data, including NumPy, Pandas, and Scikit-Learn.\n",
    "\n",
    "- R: R is another popular programming language that is widely used in data science. It has a large number of libraries and packages that make it easy to work with data, including dplyr, ggplot2, and caret.\n",
    "\n",
    "- SQL: SQL is a database programming language that is used to manage and manipulate large datasets. It's essential for working with relational databases, and it's also used for data analysis and data mining.\n",
    "\n",
    "- MATLAB: MATLAB is a high-level programming language that is commonly used in scientific computing and data analysis. It has a large number of toolboxes that make it easy to work with data, including statistics, signal processing, and optimization.\n",
    "\n",
    "These are just a few of the many programming languages that are used in data science. Each language has its strengths and weaknesses, and the choice of language often depends on the specific task at hand."
   ]
  },
  {
   "cell_type": "markdown",
   "id": "7c13e11a",
   "metadata": {},
   "source": [
    "# Data Science Libraries\n",
    "Data science involves working with large and complex datasets, and there are several libraries that are commonly used in this field. Here are some of the most popular data science libraries:\n",
    "\n",
    "- NumPy: NumPy is a Python library that is used for scientific computing. It provides support for arrays and matrices, and it also has functions for working with mathematical operations.\n",
    "\n",
    "- Pandas: Pandas is a Python library that is used for data manipulation and analysis. It provides support for data cleaning, merging, and reshaping, as well as for data visualization.\n",
    "\n",
    "- Matplotlib: Matplotlib is a Python library that is used for data visualization. It provides support for creating line graphs, scatter plots, bar charts, and other types of visualizations.\n",
    "\n",
    "- Scikit-Learn: Scikit-Learn is a Python library that is used for machine learning. It provides support for various machine learning algorithms, including classification, regression, and clustering.\n",
    "\n",
    "- TensorFlow: TensorFlow is a Python library that is used for machine learning and deep learning. It provides support for building and training neural networks, as well as for data preprocessing and visualization.\n",
    "\n",
    "These are just a few of the many libraries that are used in data science. Each library has its strengths and weaknesses, and the choice of library often depends on the specific task at hand."
   ]
  },
  {
   "cell_type": "markdown",
   "id": "013f06c2",
   "metadata": {},
   "source": [
    "# Data Science Tools \n",
    "Here is a table that summarizes some of the most commonly used tools in data science:\n",
    "| Tool | Description | \n",
    "|------------------|------------------|\n",
    "| Python   | A high-level programming language with a large number of data science libraries and frameworks such as NumPy, Pandas, and Scikit-Learn. | \n",
    "| R   | A programming language widely used in data science with a large number of libraries and packages such as dplyr, ggplot2, and caret. | \n",
    "|SQL | A database programming language that is essential for managing and manipulating large datasets, including relational databases.   | \n",
    "|MATLAB | A high-level programming language widely used in scientific computing and data analysis, with a large number of toolboxes such as statistics, signal processing, and optimization.   | \n",
    "| Jupyterlite Notebook  | An interactive web-based environment that allows users to create and share notebooks that combine code, visualizations, and text. |\n",
    "| NumPy   | A Python library that provides support for arrays and matrices, and also has functions for mathematical operations.   | \n",
    "| Pandas   | A Python library that provides support for data manipulation and analysis, including data cleaning, merging, and reshaping.  | \n",
    "| Matplotlib  | A Python library that provides support for creating various types of visualizations, including line graphs, scatter plots, and bar charts. | \n",
    "| Scikit-Learn  | A Python library that provides support for various machine learning algorithms, including classification, regression, and clustering.   | \n",
    "| TensorFlow   | A Python library that provides support for building and training neural networks, as well as for data preprocessing and visualization.  | \n",
    "This is just a small sample of the many tools available for data science, but it gives an idea of the range of tools that are commonly used in the field."
   ]
  },
  {
   "cell_type": "markdown",
   "id": "ee059b98",
   "metadata": {},
   "source": [
    "# Arithematic expression examples\n",
    "Arithmetic expressions are used to perform mathematical operations in programming languages. These expressions typically involve operators such as addition (+), subtraction (-), multiplication (*), division (/), and exponentiation (**).\n",
    "\n",
    "Here are some examples of arithmetic expressions in Python:\n",
    "\n",
    "#### Addition\n",
    "2 + 3      # returns 5\n",
    "\n",
    "#### Subtraction\n",
    "5 - 2      # returns 3\n",
    "\n",
    "#### Multiplication\n",
    "4 * 6      # returns 24\n",
    "\n",
    "#### Division\n",
    "10 / 2     # returns 5.0\n",
    "\n",
    "#### Exponentiation\n",
    "2 ** 3     # returns 8\n",
    "\n",
    "In addition to these basic operations, there are many other mathematical functions and operations that can be performed using built-in functions and libraries in Python."
   ]
  },
  {
   "cell_type": "code",
   "execution_count": 1,
   "id": "087f60ee",
   "metadata": {},
   "outputs": [
    {
     "name": "stdout",
     "output_type": "stream",
     "text": [
      "45\n"
     ]
    }
   ],
   "source": [
    "# multiply and add two numbers\n",
    "a = 5\n",
    "b = 7\n",
    "c = a * b + 10\n",
    "\n",
    "# print the result\n",
    "print(c)"
   ]
  },
  {
   "cell_type": "code",
   "execution_count": 2,
   "id": "6f8667e7",
   "metadata": {},
   "outputs": [
    {
     "name": "stdout",
     "output_type": "stream",
     "text": [
      "2.5\n"
     ]
    }
   ],
   "source": [
    "# convert minutes to hours\n",
    "minutes = 150\n",
    "hours = minutes / 60\n",
    "\n",
    "# print the result\n",
    "print(hours)"
   ]
  },
  {
   "cell_type": "markdown",
   "id": "1d1f9310",
   "metadata": {},
   "source": [
    "# Objectives\n",
    "\n",
    "- Exercise 2 - Create a markdown cell with the title of the notebook. (1 pt)\n",
    "\n",
    "- Exercise 3 - Create a markdown cell for an introduction. (1 pt)\n",
    "\n",
    "- Exercise 4 - Create a markdown cell to list data science languages. (3 pts)\n",
    "\n",
    "- Exercise 5 - Create a markdown cell to list data science libraries. (3 pts)\n",
    "\n",
    "- Exercise 6 - Create a markdown cell with a table of Data Science tools. (3 pts)\n",
    "\n",
    "- Exercise 7 - Create a markdown cell introducing arithmetic expression examples. (1 pt)\n",
    "\n",
    "- Exercise 8 - Create a code cell to multiply and add numbers. (2 pts)\n",
    "\n",
    "- Exercise 9 - Create a code cell to convert minutes to hours. (2 pts)\n",
    "\n",
    "- Exercise 10 -Insert a markdown cell to list Objectives. (3 pts)\n",
    "\n",
    "- Exercise 11 - Create a markdown cell to indicate the Author’s name. (2 pts)\n",
    "\n",
    "- Exercise 12 - Share your notebook through GitHub (3 pts)\n",
    "\n",
    "- Exercise 13 - Take a screenshot of the first page of the notebook. (1 pt)"
   ]
  },
  {
   "cell_type": "markdown",
   "id": "a01d46ab",
   "metadata": {},
   "source": [
    "# Author's name \n",
    "\n",
    "### Hisham Bin Asif"
   ]
  },
  {
   "cell_type": "code",
   "execution_count": null,
   "id": "4fe20e45",
   "metadata": {},
   "outputs": [],
   "source": []
  }
 ],
 "metadata": {
  "kernelspec": {
   "display_name": "Python 3 (ipykernel)",
   "language": "python",
   "name": "python3"
  },
  "language_info": {
   "codemirror_mode": {
    "name": "ipython",
    "version": 3
   },
   "file_extension": ".py",
   "mimetype": "text/x-python",
   "name": "python",
   "nbconvert_exporter": "python",
   "pygments_lexer": "ipython3",
   "version": "3.11.2"
  }
 },
 "nbformat": 4,
 "nbformat_minor": 5
}
